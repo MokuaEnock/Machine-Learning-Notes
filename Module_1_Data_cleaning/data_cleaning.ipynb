{
 "cells": [
  {
   "cell_type": "markdown",
   "metadata": {},
   "source": [
    "# Data cleaning\n",
    "\n",
    "For this lesson we will practice carrying out data cleaning on the following [Salary dataset](https://www.levels.fyi/js/salaryData.json) that is available on [levels.fyi](https://www.levels.fyi/)"
   ]
  },
  {
   "cell_type": "code",
   "execution_count": 26,
   "metadata": {},
   "outputs": [],
   "source": [
    "\"\"\" We will begin by importing the modules that we will use. \"\"\"\n",
    "import pandas as pd\n",
    "import numpy as np\n",
    "import requests\n",
    "import pandas_profiling\n",
    "import missingno"
   ]
  },
  {
   "cell_type": "markdown",
   "metadata": {},
   "source": [
    "You can install the modules above by running the command `pip install module_name`"
   ]
  },
  {
   "cell_type": "code",
   "execution_count": 27,
   "metadata": {},
   "outputs": [],
   "source": [
    "\"\"\" Reading the data \"\"\"\n",
    "response = requests.get(\"https://www.levels.fyi/js/salaryData.json\").json()\n",
    "df = pd.DataFrame(response)"
   ]
  },
  {
   "cell_type": "markdown",
   "metadata": {},
   "source": [
    "Using the requests.get allow us to make a proper http request and returns a response object addind the `json()` at the end transforms the response into a *Javascript Object Notation (JSON)*"
   ]
  },
  {
   "cell_type": "code",
   "execution_count": 28,
   "metadata": {},
   "outputs": [
    {
     "data": {
      "text/html": [
       "<div>\n",
       "<style scoped>\n",
       "    .dataframe tbody tr th:only-of-type {\n",
       "        vertical-align: middle;\n",
       "    }\n",
       "\n",
       "    .dataframe tbody tr th {\n",
       "        vertical-align: top;\n",
       "    }\n",
       "\n",
       "    .dataframe thead th {\n",
       "        text-align: right;\n",
       "    }\n",
       "</style>\n",
       "<table border=\"1\" class=\"dataframe\">\n",
       "  <thead>\n",
       "    <tr style=\"text-align: right;\">\n",
       "      <th></th>\n",
       "      <th>timestamp</th>\n",
       "      <th>company</th>\n",
       "      <th>level</th>\n",
       "      <th>title</th>\n",
       "      <th>totalyearlycompensation</th>\n",
       "      <th>location</th>\n",
       "      <th>yearsofexperience</th>\n",
       "      <th>yearsatcompany</th>\n",
       "      <th>tag</th>\n",
       "      <th>basesalary</th>\n",
       "      <th>stockgrantvalue</th>\n",
       "      <th>bonus</th>\n",
       "      <th>gender</th>\n",
       "      <th>otherdetails</th>\n",
       "      <th>cityid</th>\n",
       "      <th>dmaid</th>\n",
       "      <th>rowNumber</th>\n",
       "    </tr>\n",
       "  </thead>\n",
       "  <tbody>\n",
       "    <tr>\n",
       "      <th>0</th>\n",
       "      <td>6/7/2017 11:33:27</td>\n",
       "      <td>Oracle</td>\n",
       "      <td>L3</td>\n",
       "      <td>Product Manager</td>\n",
       "      <td>186</td>\n",
       "      <td>Redwood City, CA</td>\n",
       "      <td>1</td>\n",
       "      <td>1</td>\n",
       "      <td></td>\n",
       "      <td>160</td>\n",
       "      <td>17</td>\n",
       "      <td>9</td>\n",
       "      <td></td>\n",
       "      <td></td>\n",
       "      <td>7392</td>\n",
       "      <td>807</td>\n",
       "      <td>1</td>\n",
       "    </tr>\n",
       "    <tr>\n",
       "      <th>1</th>\n",
       "      <td>6/10/2017 17:11:29</td>\n",
       "      <td>eBay</td>\n",
       "      <td>SE 2</td>\n",
       "      <td>Software Engineer</td>\n",
       "      <td>0</td>\n",
       "      <td>San Francisco, CA</td>\n",
       "      <td>3</td>\n",
       "      <td>4</td>\n",
       "      <td></td>\n",
       "      <td>0</td>\n",
       "      <td>0</td>\n",
       "      <td>0</td>\n",
       "      <td></td>\n",
       "      <td></td>\n",
       "      <td>7419</td>\n",
       "      <td>807</td>\n",
       "      <td>2</td>\n",
       "    </tr>\n",
       "    <tr>\n",
       "      <th>2</th>\n",
       "      <td>6/11/2017 14:53:57</td>\n",
       "      <td>Amazon</td>\n",
       "      <td>L7</td>\n",
       "      <td>Product Manager</td>\n",
       "      <td>126</td>\n",
       "      <td>Seattle, WA</td>\n",
       "      <td>10</td>\n",
       "      <td>0</td>\n",
       "      <td></td>\n",
       "      <td>126</td>\n",
       "      <td>0</td>\n",
       "      <td>0</td>\n",
       "      <td></td>\n",
       "      <td></td>\n",
       "      <td>11527</td>\n",
       "      <td>819</td>\n",
       "      <td>3</td>\n",
       "    </tr>\n",
       "    <tr>\n",
       "      <th>3</th>\n",
       "      <td>6/14/2017 21:22:25</td>\n",
       "      <td>Microsoft</td>\n",
       "      <td>64</td>\n",
       "      <td>Software Engineering Manager</td>\n",
       "      <td>171348</td>\n",
       "      <td>Redmond, WA</td>\n",
       "      <td>13</td>\n",
       "      <td>13</td>\n",
       "      <td></td>\n",
       "      <td>92799</td>\n",
       "      <td>55371</td>\n",
       "      <td>23178</td>\n",
       "      <td></td>\n",
       "      <td></td>\n",
       "      <td>11521</td>\n",
       "      <td>819</td>\n",
       "      <td>5</td>\n",
       "    </tr>\n",
       "    <tr>\n",
       "      <th>4</th>\n",
       "      <td>6/16/2017 10:44:01</td>\n",
       "      <td>Amazon</td>\n",
       "      <td>L5</td>\n",
       "      <td>Software Engineer</td>\n",
       "      <td>214175</td>\n",
       "      <td>Vancouver, BC, Canada</td>\n",
       "      <td>13</td>\n",
       "      <td>1</td>\n",
       "      <td></td>\n",
       "      <td>156335</td>\n",
       "      <td>0</td>\n",
       "      <td>57840</td>\n",
       "      <td></td>\n",
       "      <td></td>\n",
       "      <td>1320</td>\n",
       "      <td>0</td>\n",
       "      <td>6</td>\n",
       "    </tr>\n",
       "    <tr>\n",
       "      <th>5</th>\n",
       "      <td>6/17/2017 0:23:14</td>\n",
       "      <td>Apple</td>\n",
       "      <td>M1</td>\n",
       "      <td>Software Engineering Manager</td>\n",
       "      <td>423</td>\n",
       "      <td>Sunnyvale, CA</td>\n",
       "      <td>6</td>\n",
       "      <td>6</td>\n",
       "      <td></td>\n",
       "      <td>157</td>\n",
       "      <td>219</td>\n",
       "      <td>47</td>\n",
       "      <td></td>\n",
       "      <td></td>\n",
       "      <td>7472</td>\n",
       "      <td>807</td>\n",
       "      <td>7</td>\n",
       "    </tr>\n",
       "    <tr>\n",
       "      <th>6</th>\n",
       "      <td>6/20/2017 10:58:51</td>\n",
       "      <td>Microsoft</td>\n",
       "      <td>60</td>\n",
       "      <td>Software Engineer</td>\n",
       "      <td>0</td>\n",
       "      <td>Mountain View, CA</td>\n",
       "      <td>7</td>\n",
       "      <td>2</td>\n",
       "      <td></td>\n",
       "      <td>0</td>\n",
       "      <td>0</td>\n",
       "      <td>0</td>\n",
       "      <td></td>\n",
       "      <td></td>\n",
       "      <td>7322</td>\n",
       "      <td>807</td>\n",
       "      <td>9</td>\n",
       "    </tr>\n",
       "    <tr>\n",
       "      <th>7</th>\n",
       "      <td>6/20/2017 18:49:59</td>\n",
       "      <td>Amazon</td>\n",
       "      <td>L5</td>\n",
       "      <td>Software Engineer</td>\n",
       "      <td>153939</td>\n",
       "      <td>Seattle, WA</td>\n",
       "      <td>3</td>\n",
       "      <td>3</td>\n",
       "      <td></td>\n",
       "      <td>101828</td>\n",
       "      <td>52111</td>\n",
       "      <td>0</td>\n",
       "      <td></td>\n",
       "      <td></td>\n",
       "      <td>11527</td>\n",
       "      <td>819</td>\n",
       "      <td>10</td>\n",
       "    </tr>\n",
       "    <tr>\n",
       "      <th>8</th>\n",
       "      <td>6/21/2017 17:27:47</td>\n",
       "      <td>Microsoft</td>\n",
       "      <td>63</td>\n",
       "      <td>Software Engineer</td>\n",
       "      <td>0</td>\n",
       "      <td>Seattle, WA</td>\n",
       "      <td>7</td>\n",
       "      <td>11</td>\n",
       "      <td></td>\n",
       "      <td>0</td>\n",
       "      <td>0</td>\n",
       "      <td>0</td>\n",
       "      <td></td>\n",
       "      <td></td>\n",
       "      <td>11527</td>\n",
       "      <td>819</td>\n",
       "      <td>11</td>\n",
       "    </tr>\n",
       "    <tr>\n",
       "      <th>9</th>\n",
       "      <td>6/22/2017 12:37:51</td>\n",
       "      <td>Microsoft</td>\n",
       "      <td>65</td>\n",
       "      <td>Software Engineering Manager</td>\n",
       "      <td>302</td>\n",
       "      <td>Redmond, WA</td>\n",
       "      <td>16</td>\n",
       "      <td>13</td>\n",
       "      <td></td>\n",
       "      <td>192</td>\n",
       "      <td>61</td>\n",
       "      <td>49</td>\n",
       "      <td></td>\n",
       "      <td></td>\n",
       "      <td>11521</td>\n",
       "      <td>819</td>\n",
       "      <td>12</td>\n",
       "    </tr>\n",
       "  </tbody>\n",
       "</table>\n",
       "</div>"
      ],
      "text/plain": [
       "            timestamp    company level                         title  \\\n",
       "0   6/7/2017 11:33:27     Oracle    L3               Product Manager   \n",
       "1  6/10/2017 17:11:29       eBay  SE 2             Software Engineer   \n",
       "2  6/11/2017 14:53:57     Amazon    L7               Product Manager   \n",
       "3  6/14/2017 21:22:25  Microsoft    64  Software Engineering Manager   \n",
       "4  6/16/2017 10:44:01     Amazon    L5             Software Engineer   \n",
       "5   6/17/2017 0:23:14      Apple    M1  Software Engineering Manager   \n",
       "6  6/20/2017 10:58:51  Microsoft    60             Software Engineer   \n",
       "7  6/20/2017 18:49:59     Amazon    L5             Software Engineer   \n",
       "8  6/21/2017 17:27:47  Microsoft    63             Software Engineer   \n",
       "9  6/22/2017 12:37:51  Microsoft    65  Software Engineering Manager   \n",
       "\n",
       "  totalyearlycompensation               location yearsofexperience  \\\n",
       "0                     186       Redwood City, CA                 1   \n",
       "1                       0      San Francisco, CA                 3   \n",
       "2                     126            Seattle, WA                10   \n",
       "3                  171348            Redmond, WA                13   \n",
       "4                  214175  Vancouver, BC, Canada                13   \n",
       "5                     423          Sunnyvale, CA                 6   \n",
       "6                       0      Mountain View, CA                 7   \n",
       "7                  153939            Seattle, WA                 3   \n",
       "8                       0            Seattle, WA                 7   \n",
       "9                     302            Redmond, WA                16   \n",
       "\n",
       "  yearsatcompany tag basesalary stockgrantvalue  bonus gender otherdetails  \\\n",
       "0              1            160              17      9                       \n",
       "1              4              0               0      0                       \n",
       "2              0            126               0      0                       \n",
       "3             13          92799           55371  23178                       \n",
       "4              1         156335               0  57840                       \n",
       "5              6            157             219     47                       \n",
       "6              2              0               0      0                       \n",
       "7              3         101828           52111      0                       \n",
       "8             11              0               0      0                       \n",
       "9             13            192              61     49                       \n",
       "\n",
       "  cityid dmaid  rowNumber  \n",
       "0   7392   807          1  \n",
       "1   7419   807          2  \n",
       "2  11527   819          3  \n",
       "3  11521   819          5  \n",
       "4   1320     0          6  \n",
       "5   7472   807          7  \n",
       "6   7322   807          9  \n",
       "7  11527   819         10  \n",
       "8  11527   819         11  \n",
       "9  11521   819         12  "
      ]
     },
     "execution_count": 28,
     "metadata": {},
     "output_type": "execute_result"
    }
   ],
   "source": [
    "df.head(10)"
   ]
  },
  {
   "cell_type": "markdown",
   "metadata": {},
   "source": [
    "## General information about the dataset"
   ]
  },
  {
   "cell_type": "markdown",
   "metadata": {},
   "source": [
    "The first step towards any succesful data cleaning is understanind the data, how many unique values are in a particular feature and what a feature entails we will begin our exploration by looking at the different features in the data."
   ]
  },
  {
   "cell_type": "code",
   "execution_count": 29,
   "metadata": {},
   "outputs": [],
   "source": [
    "#making a copy of the data\n",
    "df_copy = df.copy()"
   ]
  },
  {
   "cell_type": "code",
   "execution_count": 30,
   "metadata": {},
   "outputs": [
    {
     "name": "stdout",
     "output_type": "stream",
     "text": [
      "<class 'pandas.core.frame.DataFrame'>\n",
      "RangeIndex: 62642 entries, 0 to 62641\n",
      "Data columns (total 17 columns):\n",
      " #   Column                   Non-Null Count  Dtype \n",
      "---  ------                   --------------  ----- \n",
      " 0   timestamp                62642 non-null  object\n",
      " 1   company                  62642 non-null  object\n",
      " 2   level                    62642 non-null  object\n",
      " 3   title                    62642 non-null  object\n",
      " 4   totalyearlycompensation  62642 non-null  object\n",
      " 5   location                 62642 non-null  object\n",
      " 6   yearsofexperience        62642 non-null  object\n",
      " 7   yearsatcompany           62642 non-null  object\n",
      " 8   tag                      62642 non-null  object\n",
      " 9   basesalary               62642 non-null  object\n",
      " 10  stockgrantvalue          62642 non-null  object\n",
      " 11  bonus                    62642 non-null  object\n",
      " 12  gender                   62642 non-null  object\n",
      " 13  otherdetails             62642 non-null  object\n",
      " 14  cityid                   62642 non-null  object\n",
      " 15  dmaid                    62642 non-null  object\n",
      " 16  rowNumber                62642 non-null  int64 \n",
      "dtypes: int64(1), object(16)\n",
      "memory usage: 8.1+ MB\n"
     ]
    }
   ],
   "source": [
    "#getting general info\n",
    "df_copy.info()"
   ]
  },
  {
   "cell_type": "code",
   "execution_count": 31,
   "metadata": {},
   "outputs": [
    {
     "data": {
      "text/plain": [
       "(62642, 17)"
      ]
     },
     "execution_count": 31,
     "metadata": {},
     "output_type": "execute_result"
    }
   ],
   "source": [
    "#getting the shape\n",
    "df_copy.shape"
   ]
  },
  {
   "cell_type": "markdown",
   "metadata": {},
   "source": [
    "Our data conatins *62642* rows and *29* columns"
   ]
  },
  {
   "cell_type": "code",
   "execution_count": 32,
   "metadata": {},
   "outputs": [
    {
     "name": "stdout",
     "output_type": "stream",
     "text": [
      "Index(['timestamp', 'company', 'level', 'title', 'totalyearlycompensation',\n",
      "       'location', 'yearsofexperience', 'yearsatcompany', 'tag', 'basesalary',\n",
      "       'stockgrantvalue', 'bonus', 'gender', 'otherdetails', 'cityid', 'dmaid',\n",
      "       'rowNumber'],\n",
      "      dtype='object')\n"
     ]
    }
   ],
   "source": [
    "#checking the columns\n",
    "print(df_copy.columns)"
   ]
  },
  {
   "cell_type": "markdown",
   "metadata": {},
   "source": [
    "While the computations baove such as reading checking the number of rows and columns and getting the general information about the dataset are coputationaly inexpensive they tend to be time consuming lets use the `pandas_profiling` module to get a deep insight about our dataset"
   ]
  },
  {
   "cell_type": "code",
   "execution_count": 33,
   "metadata": {},
   "outputs": [],
   "source": [
    "# pandas_profiling.ProfileReport(df_copy)"
   ]
  },
  {
   "cell_type": "markdown",
   "metadata": {},
   "source": [
    "### Drop unnecessary columns from the data"
   ]
  },
  {
   "cell_type": "code",
   "execution_count": 34,
   "metadata": {},
   "outputs": [],
   "source": [
    "df_copy = df_copy.drop([\"cityid\", \"dmaid\", \"rowNumber\"], axis=1)"
   ]
  },
  {
   "cell_type": "code",
   "execution_count": 35,
   "metadata": {},
   "outputs": [
    {
     "data": {
      "text/html": [
       "<div>\n",
       "<style scoped>\n",
       "    .dataframe tbody tr th:only-of-type {\n",
       "        vertical-align: middle;\n",
       "    }\n",
       "\n",
       "    .dataframe tbody tr th {\n",
       "        vertical-align: top;\n",
       "    }\n",
       "\n",
       "    .dataframe thead th {\n",
       "        text-align: right;\n",
       "    }\n",
       "</style>\n",
       "<table border=\"1\" class=\"dataframe\">\n",
       "  <thead>\n",
       "    <tr style=\"text-align: right;\">\n",
       "      <th></th>\n",
       "      <th>timestamp</th>\n",
       "      <th>company</th>\n",
       "      <th>level</th>\n",
       "      <th>title</th>\n",
       "      <th>totalyearlycompensation</th>\n",
       "      <th>location</th>\n",
       "      <th>yearsofexperience</th>\n",
       "      <th>yearsatcompany</th>\n",
       "      <th>tag</th>\n",
       "      <th>basesalary</th>\n",
       "      <th>stockgrantvalue</th>\n",
       "      <th>bonus</th>\n",
       "      <th>gender</th>\n",
       "      <th>otherdetails</th>\n",
       "    </tr>\n",
       "  </thead>\n",
       "  <tbody>\n",
       "    <tr>\n",
       "      <th>0</th>\n",
       "      <td>6/7/2017 11:33:27</td>\n",
       "      <td>Oracle</td>\n",
       "      <td>L3</td>\n",
       "      <td>Product Manager</td>\n",
       "      <td>186</td>\n",
       "      <td>Redwood City, CA</td>\n",
       "      <td>1</td>\n",
       "      <td>1</td>\n",
       "      <td></td>\n",
       "      <td>160</td>\n",
       "      <td>17</td>\n",
       "      <td>9</td>\n",
       "      <td></td>\n",
       "      <td></td>\n",
       "    </tr>\n",
       "    <tr>\n",
       "      <th>1</th>\n",
       "      <td>6/10/2017 17:11:29</td>\n",
       "      <td>eBay</td>\n",
       "      <td>SE 2</td>\n",
       "      <td>Software Engineer</td>\n",
       "      <td>0</td>\n",
       "      <td>San Francisco, CA</td>\n",
       "      <td>3</td>\n",
       "      <td>4</td>\n",
       "      <td></td>\n",
       "      <td>0</td>\n",
       "      <td>0</td>\n",
       "      <td>0</td>\n",
       "      <td></td>\n",
       "      <td></td>\n",
       "    </tr>\n",
       "    <tr>\n",
       "      <th>2</th>\n",
       "      <td>6/11/2017 14:53:57</td>\n",
       "      <td>Amazon</td>\n",
       "      <td>L7</td>\n",
       "      <td>Product Manager</td>\n",
       "      <td>126</td>\n",
       "      <td>Seattle, WA</td>\n",
       "      <td>10</td>\n",
       "      <td>0</td>\n",
       "      <td></td>\n",
       "      <td>126</td>\n",
       "      <td>0</td>\n",
       "      <td>0</td>\n",
       "      <td></td>\n",
       "      <td></td>\n",
       "    </tr>\n",
       "    <tr>\n",
       "      <th>3</th>\n",
       "      <td>6/14/2017 21:22:25</td>\n",
       "      <td>Microsoft</td>\n",
       "      <td>64</td>\n",
       "      <td>Software Engineering Manager</td>\n",
       "      <td>171348</td>\n",
       "      <td>Redmond, WA</td>\n",
       "      <td>13</td>\n",
       "      <td>13</td>\n",
       "      <td></td>\n",
       "      <td>92799</td>\n",
       "      <td>55371</td>\n",
       "      <td>23178</td>\n",
       "      <td></td>\n",
       "      <td></td>\n",
       "    </tr>\n",
       "    <tr>\n",
       "      <th>4</th>\n",
       "      <td>6/16/2017 10:44:01</td>\n",
       "      <td>Amazon</td>\n",
       "      <td>L5</td>\n",
       "      <td>Software Engineer</td>\n",
       "      <td>214175</td>\n",
       "      <td>Vancouver, BC, Canada</td>\n",
       "      <td>13</td>\n",
       "      <td>1</td>\n",
       "      <td></td>\n",
       "      <td>156335</td>\n",
       "      <td>0</td>\n",
       "      <td>57840</td>\n",
       "      <td></td>\n",
       "      <td></td>\n",
       "    </tr>\n",
       "  </tbody>\n",
       "</table>\n",
       "</div>"
      ],
      "text/plain": [
       "            timestamp    company level                         title  \\\n",
       "0   6/7/2017 11:33:27     Oracle    L3               Product Manager   \n",
       "1  6/10/2017 17:11:29       eBay  SE 2             Software Engineer   \n",
       "2  6/11/2017 14:53:57     Amazon    L7               Product Manager   \n",
       "3  6/14/2017 21:22:25  Microsoft    64  Software Engineering Manager   \n",
       "4  6/16/2017 10:44:01     Amazon    L5             Software Engineer   \n",
       "\n",
       "  totalyearlycompensation               location yearsofexperience  \\\n",
       "0                     186       Redwood City, CA                 1   \n",
       "1                       0      San Francisco, CA                 3   \n",
       "2                     126            Seattle, WA                10   \n",
       "3                  171348            Redmond, WA                13   \n",
       "4                  214175  Vancouver, BC, Canada                13   \n",
       "\n",
       "  yearsatcompany tag basesalary stockgrantvalue  bonus gender otherdetails  \n",
       "0              1            160              17      9                      \n",
       "1              4              0               0      0                      \n",
       "2              0            126               0      0                      \n",
       "3             13          92799           55371  23178                      \n",
       "4              1         156335               0  57840                      "
      ]
     },
     "execution_count": 35,
     "metadata": {},
     "output_type": "execute_result"
    }
   ],
   "source": [
    "df_copy.head()"
   ]
  },
  {
   "cell_type": "markdown",
   "metadata": {},
   "source": [
    "We will then replace all missing values with `NaN`"
   ]
  },
  {
   "cell_type": "code",
   "execution_count": 36,
   "metadata": {},
   "outputs": [],
   "source": [
    "df_copy = df_copy.replace(\"\", np.nan)"
   ]
  },
  {
   "cell_type": "markdown",
   "metadata": {},
   "source": [
    "## Missing values\n",
    "\n",
    "We will then deal with issues of data completeness using the `missingno` library to understand our missing values"
   ]
  },
  {
   "cell_type": "code",
   "execution_count": 39,
   "metadata": {},
   "outputs": [
    {
     "data": {
      "image/png": "[encoded data removed]",
      "text/plain": [
       "<Figure size 864x432 with 3 Axes>"
      ]
     },
     "metadata": {
      "needs_background": "light"
     },
     "output_type": "display_data"
    }
   ],
   "source": [
    "#we will begin by visualizing column with the highest number of missing vaues\n",
    "missingno.bar(df_copy, figsize=(12, 6));"
   ]
  },
  {
   "cell_type": "markdown",
   "metadata": {},
   "source": [
    "We will then view the location of the missing values"
   ]
  },
  {
   "cell_type": "code",
   "execution_count": 37,
   "metadata": {},
   "outputs": [
    {
     "data": {
      "image/png": "[encoded data removed]",
      "text/plain": [
       "<Figure size 864x432 with 2 Axes>"
      ]
     },
     "metadata": {
      "needs_background": "light"
     },
     "output_type": "display_data"
    }
   ],
   "source": [
    "missingno.matrix(df_copy, figsize=(12, 6));"
   ]
  },
  {
   "cell_type": "markdown",
   "metadata": {},
   "source": [
    "## Data types\n",
    "\n",
    "we will begin by assigning our columns the correct data type"
   ]
  },
  {
   "cell_type": "code",
   "execution_count": 41,
   "metadata": {},
   "outputs": [
    {
     "name": "stdout",
     "output_type": "stream",
     "text": [
      "<class 'pandas.core.frame.DataFrame'>\n",
      "RangeIndex: 62642 entries, 0 to 62641\n",
      "Data columns (total 14 columns):\n",
      " #   Column                   Non-Null Count  Dtype \n",
      "---  ------                   --------------  ----- \n",
      " 0   timestamp                62642 non-null  object\n",
      " 1   company                  62642 non-null  object\n",
      " 2   level                    62642 non-null  object\n",
      " 3   title                    62642 non-null  object\n",
      " 4   totalyearlycompensation  62642 non-null  object\n",
      " 5   location                 62642 non-null  object\n",
      " 6   yearsofexperience        62642 non-null  object\n",
      " 7   yearsatcompany           62642 non-null  object\n",
      " 8   tag                      61856 non-null  object\n",
      " 9   basesalary               62642 non-null  object\n",
      " 10  stockgrantvalue          62642 non-null  object\n",
      " 11  bonus                    62642 non-null  object\n",
      " 12  gender                   43102 non-null  object\n",
      " 13  otherdetails             40139 non-null  object\n",
      "dtypes: object(14)\n",
      "memory usage: 6.7+ MB\n"
     ]
    }
   ],
   "source": [
    "#checking on the datatypes\n",
    "df_copy.info()"
   ]
  },
  {
   "cell_type": "markdown",
   "metadata": {},
   "source": [
    "As we can see most of our datatypes are in the form of onjects even for some numeric columns and datetime columns lets convert this columns to their respective datatypes."
   ]
  },
  {
   "cell_type": "code",
   "execution_count": 43,
   "metadata": {},
   "outputs": [],
   "source": [
    "#to datetime\n",
    "df_copy[\"timestamp\"] = pd.to_datetime(df['timestamp'])\n",
    "\n",
    "#to numeric\n",
    "df_copy[['yearsofexperience','basesalary','bonus','stockgrantvalue','totalyearlycompensation','yearsatcompany']] = df_copy[['yearsofexperience','basesalary','bonus','stockgrantvalue','totalyearlycompensation','yearsatcompany']].apply(pd.to_numeric)"
   ]
  },
  {
   "cell_type": "code",
   "execution_count": 44,
   "metadata": {},
   "outputs": [
    {
     "name": "stdout",
     "output_type": "stream",
     "text": [
      "<class 'pandas.core.frame.DataFrame'>\n",
      "RangeIndex: 62642 entries, 0 to 62641\n",
      "Data columns (total 14 columns):\n",
      " #   Column                   Non-Null Count  Dtype         \n",
      "---  ------                   --------------  -----         \n",
      " 0   timestamp                62642 non-null  datetime64[ns]\n",
      " 1   company                  62642 non-null  object        \n",
      " 2   level                    62642 non-null  object        \n",
      " 3   title                    62642 non-null  object        \n",
      " 4   totalyearlycompensation  62642 non-null  int64         \n",
      " 5   location                 62642 non-null  object        \n",
      " 6   yearsofexperience        62642 non-null  int64         \n",
      " 7   yearsatcompany           62642 non-null  int64         \n",
      " 8   tag                      61856 non-null  object        \n",
      " 9   basesalary               62642 non-null  int64         \n",
      " 10  stockgrantvalue          62642 non-null  int64         \n",
      " 11  bonus                    62642 non-null  int64         \n",
      " 12  gender                   43102 non-null  object        \n",
      " 13  otherdetails             40139 non-null  object        \n",
      "dtypes: datetime64[ns](1), int64(6), object(7)\n",
      "memory usage: 6.7+ MB\n"
     ]
    }
   ],
   "source": [
    "#checking if the changes have been applied\n",
    "df_copy.info()"
   ]
  },
  {
   "cell_type": "markdown",
   "metadata": {},
   "source": [
    "The chnges have been apllied and we can generate the pandas profiling report"
   ]
  },
  {
   "cell_type": "code",
   "execution_count": null,
   "metadata": {},
   "outputs": [],
   "source": []
  }
 ],
 "metadata": {
  "kernelspec": {
   "display_name": "Python 3 (ipykernel)",
   "language": "python",
   "name": "python3"
  },
  "language_info": {
   "codemirror_mode": {
    "name": "ipython",
    "version": 3
   },
   "file_extension": ".py",
   "mimetype": "text/x-python",
   "name": "python",
   "nbconvert_exporter": "python",
   "pygments_lexer": "ipython3",
   "version": "3.10.6"
  },
  "orig_nbformat": 4
 },
 "nbformat": 4,
 "nbformat_minor": 2
}
